{
 "cells": [
  {
   "cell_type": "markdown",
   "metadata": {},
   "source": [
    "# Lecture 21\n",
    "\n",
    "From previous lecture:"
   ]
  },
  {
   "cell_type": "code",
   "execution_count": 1,
   "metadata": {},
   "outputs": [],
   "source": [
    "# Import libraries we will use\n",
    "import pandas as pd\n",
    "import numpy as np\n",
    "%matplotlib inline\n",
    "import matplotlib.pyplot as plt\n",
    "from collections import OrderedDict"
   ]
  },
  {
   "cell_type": "code",
   "execution_count": 2,
   "metadata": {},
   "outputs": [],
   "source": [
    "# Read Data into a Pandas DataFrame\n",
    "df = pd.read_csv(\"Data-1401-Grades-Fixed.csv\")"
   ]
  },
  {
   "cell_type": "code",
   "execution_count": 3,
   "metadata": {},
   "outputs": [],
   "source": [
    "df_0=df[np.logical_not(np.isnan(df[\"Student ID\"]))]"
   ]
  },
  {
   "cell_type": "code",
   "execution_count": 4,
   "metadata": {
    "scrolled": true
   },
   "outputs": [
    {
     "data": {
      "text/html": [
       "<div>\n",
       "<style scoped>\n",
       "    .dataframe tbody tr th:only-of-type {\n",
       "        vertical-align: middle;\n",
       "    }\n",
       "\n",
       "    .dataframe tbody tr th {\n",
       "        vertical-align: top;\n",
       "    }\n",
       "\n",
       "    .dataframe thead th {\n",
       "        text-align: right;\n",
       "    }\n",
       "</style>\n",
       "<table border=\"1\" class=\"dataframe\">\n",
       "  <thead>\n",
       "    <tr style=\"text-align: right;\">\n",
       "      <th></th>\n",
       "      <th>Student ID</th>\n",
       "      <th>Lab 1</th>\n",
       "      <th>Lab 2</th>\n",
       "      <th>Lab 3</th>\n",
       "      <th>Lab 4</th>\n",
       "      <th>Exam 1</th>\n",
       "      <th>Lab 5</th>\n",
       "      <th>Lab 6</th>\n",
       "      <th>Lab 7</th>\n",
       "    </tr>\n",
       "  </thead>\n",
       "  <tbody>\n",
       "    <tr>\n",
       "      <th>0</th>\n",
       "      <td>1.000954e+09</td>\n",
       "      <td>100</td>\n",
       "      <td>81</td>\n",
       "      <td>25</td>\n",
       "      <td>35</td>\n",
       "      <td>0</td>\n",
       "      <td>NaN</td>\n",
       "      <td>NaN</td>\n",
       "      <td>NaN</td>\n",
       "    </tr>\n",
       "    <tr>\n",
       "      <th>2</th>\n",
       "      <td>1.000626e+09</td>\n",
       "      <td>95</td>\n",
       "      <td>87</td>\n",
       "      <td>0</td>\n",
       "      <td>88</td>\n",
       "      <td>120</td>\n",
       "      <td>NaN</td>\n",
       "      <td>NaN</td>\n",
       "      <td>NaN</td>\n",
       "    </tr>\n",
       "    <tr>\n",
       "      <th>4</th>\n",
       "      <td>1.000848e+09</td>\n",
       "      <td>100</td>\n",
       "      <td>0</td>\n",
       "      <td>0</td>\n",
       "      <td>0</td>\n",
       "      <td>90</td>\n",
       "      <td>NaN</td>\n",
       "      <td>NaN</td>\n",
       "      <td>NaN</td>\n",
       "    </tr>\n",
       "    <tr>\n",
       "      <th>6</th>\n",
       "      <td>1.001108e+09</td>\n",
       "      <td>90</td>\n",
       "      <td>96</td>\n",
       "      <td>0</td>\n",
       "      <td>35</td>\n",
       "      <td>90</td>\n",
       "      <td>NaN</td>\n",
       "      <td>NaN</td>\n",
       "      <td>NaN</td>\n",
       "    </tr>\n",
       "    <tr>\n",
       "      <th>8</th>\n",
       "      <td>1.001000e+09</td>\n",
       "      <td>95</td>\n",
       "      <td>94</td>\n",
       "      <td>43</td>\n",
       "      <td>0</td>\n",
       "      <td>100</td>\n",
       "      <td>NaN</td>\n",
       "      <td>NaN</td>\n",
       "      <td>NaN</td>\n",
       "    </tr>\n",
       "    <tr>\n",
       "      <th>10</th>\n",
       "      <td>1.001214e+09</td>\n",
       "      <td>80</td>\n",
       "      <td>82</td>\n",
       "      <td>30</td>\n",
       "      <td>0</td>\n",
       "      <td>90</td>\n",
       "      <td>NaN</td>\n",
       "      <td>NaN</td>\n",
       "      <td>NaN</td>\n",
       "    </tr>\n",
       "    <tr>\n",
       "      <th>12</th>\n",
       "      <td>1.001428e+09</td>\n",
       "      <td>80</td>\n",
       "      <td>90</td>\n",
       "      <td>24</td>\n",
       "      <td>0</td>\n",
       "      <td>80</td>\n",
       "      <td>NaN</td>\n",
       "      <td>NaN</td>\n",
       "      <td>NaN</td>\n",
       "    </tr>\n",
       "    <tr>\n",
       "      <th>14</th>\n",
       "      <td>1.001397e+09</td>\n",
       "      <td>100</td>\n",
       "      <td>94</td>\n",
       "      <td>87</td>\n",
       "      <td>12</td>\n",
       "      <td>105</td>\n",
       "      <td>NaN</td>\n",
       "      <td>NaN</td>\n",
       "      <td>NaN</td>\n",
       "    </tr>\n",
       "    <tr>\n",
       "      <th>16</th>\n",
       "      <td>1.001373e+09</td>\n",
       "      <td>100</td>\n",
       "      <td>70</td>\n",
       "      <td>17</td>\n",
       "      <td>35</td>\n",
       "      <td>20</td>\n",
       "      <td>NaN</td>\n",
       "      <td>NaN</td>\n",
       "      <td>NaN</td>\n",
       "    </tr>\n",
       "    <tr>\n",
       "      <th>18</th>\n",
       "      <td>1.001558e+09</td>\n",
       "      <td>95</td>\n",
       "      <td>86</td>\n",
       "      <td>0</td>\n",
       "      <td>0</td>\n",
       "      <td>84</td>\n",
       "      <td>NaN</td>\n",
       "      <td>NaN</td>\n",
       "      <td>NaN</td>\n",
       "    </tr>\n",
       "    <tr>\n",
       "      <th>20</th>\n",
       "      <td>1.001593e+09</td>\n",
       "      <td>100</td>\n",
       "      <td>96</td>\n",
       "      <td>96</td>\n",
       "      <td>85</td>\n",
       "      <td>120</td>\n",
       "      <td>NaN</td>\n",
       "      <td>NaN</td>\n",
       "      <td>NaN</td>\n",
       "    </tr>\n",
       "    <tr>\n",
       "      <th>22</th>\n",
       "      <td>1.001596e+09</td>\n",
       "      <td>90</td>\n",
       "      <td>92</td>\n",
       "      <td>71</td>\n",
       "      <td>57</td>\n",
       "      <td>100</td>\n",
       "      <td>NaN</td>\n",
       "      <td>NaN</td>\n",
       "      <td>NaN</td>\n",
       "    </tr>\n",
       "    <tr>\n",
       "      <th>24</th>\n",
       "      <td>1.001609e+09</td>\n",
       "      <td>100</td>\n",
       "      <td>94</td>\n",
       "      <td>36</td>\n",
       "      <td>61</td>\n",
       "      <td>95</td>\n",
       "      <td>NaN</td>\n",
       "      <td>NaN</td>\n",
       "      <td>NaN</td>\n",
       "    </tr>\n",
       "    <tr>\n",
       "      <th>26</th>\n",
       "      <td>1.001618e+09</td>\n",
       "      <td>100</td>\n",
       "      <td>96</td>\n",
       "      <td>97</td>\n",
       "      <td>86</td>\n",
       "      <td>110</td>\n",
       "      <td>NaN</td>\n",
       "      <td>NaN</td>\n",
       "      <td>NaN</td>\n",
       "    </tr>\n",
       "    <tr>\n",
       "      <th>28</th>\n",
       "      <td>1.001653e+09</td>\n",
       "      <td>100</td>\n",
       "      <td>90</td>\n",
       "      <td>0</td>\n",
       "      <td>0</td>\n",
       "      <td>0</td>\n",
       "      <td>NaN</td>\n",
       "      <td>NaN</td>\n",
       "      <td>NaN</td>\n",
       "    </tr>\n",
       "    <tr>\n",
       "      <th>30</th>\n",
       "      <td>1.001659e+09</td>\n",
       "      <td>100</td>\n",
       "      <td>94</td>\n",
       "      <td>96</td>\n",
       "      <td>92</td>\n",
       "      <td>100</td>\n",
       "      <td>NaN</td>\n",
       "      <td>NaN</td>\n",
       "      <td>NaN</td>\n",
       "    </tr>\n",
       "    <tr>\n",
       "      <th>32</th>\n",
       "      <td>1.001663e+09</td>\n",
       "      <td>95</td>\n",
       "      <td>94</td>\n",
       "      <td>38</td>\n",
       "      <td>0</td>\n",
       "      <td>82</td>\n",
       "      <td>NaN</td>\n",
       "      <td>NaN</td>\n",
       "      <td>NaN</td>\n",
       "    </tr>\n",
       "    <tr>\n",
       "      <th>34</th>\n",
       "      <td>1.001674e+09</td>\n",
       "      <td>95</td>\n",
       "      <td>90</td>\n",
       "      <td>23</td>\n",
       "      <td>0</td>\n",
       "      <td>0</td>\n",
       "      <td>NaN</td>\n",
       "      <td>NaN</td>\n",
       "      <td>NaN</td>\n",
       "    </tr>\n",
       "    <tr>\n",
       "      <th>36</th>\n",
       "      <td>1.001722e+09</td>\n",
       "      <td>95</td>\n",
       "      <td>100</td>\n",
       "      <td>0</td>\n",
       "      <td>0</td>\n",
       "      <td>0</td>\n",
       "      <td>NaN</td>\n",
       "      <td>NaN</td>\n",
       "      <td>NaN</td>\n",
       "    </tr>\n",
       "    <tr>\n",
       "      <th>38</th>\n",
       "      <td>1.001544e+09</td>\n",
       "      <td>100</td>\n",
       "      <td>96</td>\n",
       "      <td>19</td>\n",
       "      <td>51</td>\n",
       "      <td>111</td>\n",
       "      <td>NaN</td>\n",
       "      <td>NaN</td>\n",
       "      <td>NaN</td>\n",
       "    </tr>\n",
       "    <tr>\n",
       "      <th>40</th>\n",
       "      <td>1.001548e+09</td>\n",
       "      <td>100</td>\n",
       "      <td>94</td>\n",
       "      <td>86</td>\n",
       "      <td>75</td>\n",
       "      <td>100</td>\n",
       "      <td>NaN</td>\n",
       "      <td>NaN</td>\n",
       "      <td>NaN</td>\n",
       "    </tr>\n",
       "    <tr>\n",
       "      <th>42</th>\n",
       "      <td>1.001458e+09</td>\n",
       "      <td>85</td>\n",
       "      <td>88</td>\n",
       "      <td>21</td>\n",
       "      <td>37</td>\n",
       "      <td>50</td>\n",
       "      <td>NaN</td>\n",
       "      <td>NaN</td>\n",
       "      <td>NaN</td>\n",
       "    </tr>\n",
       "    <tr>\n",
       "      <th>44</th>\n",
       "      <td>1.001497e+09</td>\n",
       "      <td>100</td>\n",
       "      <td>98</td>\n",
       "      <td>100</td>\n",
       "      <td>100</td>\n",
       "      <td>120</td>\n",
       "      <td>NaN</td>\n",
       "      <td>NaN</td>\n",
       "      <td>NaN</td>\n",
       "    </tr>\n",
       "    <tr>\n",
       "      <th>46</th>\n",
       "      <td>1.001520e+09</td>\n",
       "      <td>100</td>\n",
       "      <td>94</td>\n",
       "      <td>85</td>\n",
       "      <td>50</td>\n",
       "      <td>115</td>\n",
       "      <td>NaN</td>\n",
       "      <td>NaN</td>\n",
       "      <td>NaN</td>\n",
       "    </tr>\n",
       "    <tr>\n",
       "      <th>48</th>\n",
       "      <td>1.001774e+09</td>\n",
       "      <td>100</td>\n",
       "      <td>94</td>\n",
       "      <td>20</td>\n",
       "      <td>79</td>\n",
       "      <td>120</td>\n",
       "      <td>NaN</td>\n",
       "      <td>NaN</td>\n",
       "      <td>NaN</td>\n",
       "    </tr>\n",
       "    <tr>\n",
       "      <th>50</th>\n",
       "      <td>1.001697e+09</td>\n",
       "      <td>0</td>\n",
       "      <td>96</td>\n",
       "      <td>0</td>\n",
       "      <td>40</td>\n",
       "      <td>100</td>\n",
       "      <td>NaN</td>\n",
       "      <td>NaN</td>\n",
       "      <td>NaN</td>\n",
       "    </tr>\n",
       "    <tr>\n",
       "      <th>52</th>\n",
       "      <td>1.001233e+09</td>\n",
       "      <td>80</td>\n",
       "      <td>94</td>\n",
       "      <td>79</td>\n",
       "      <td>60</td>\n",
       "      <td>90</td>\n",
       "      <td>NaN</td>\n",
       "      <td>NaN</td>\n",
       "      <td>NaN</td>\n",
       "    </tr>\n",
       "    <tr>\n",
       "      <th>54</th>\n",
       "      <td>1.001465e+09</td>\n",
       "      <td>95</td>\n",
       "      <td>94</td>\n",
       "      <td>0</td>\n",
       "      <td>0</td>\n",
       "      <td>105</td>\n",
       "      <td>NaN</td>\n",
       "      <td>NaN</td>\n",
       "      <td>NaN</td>\n",
       "    </tr>\n",
       "    <tr>\n",
       "      <th>56</th>\n",
       "      <td>1.001645e+09</td>\n",
       "      <td>80</td>\n",
       "      <td>80</td>\n",
       "      <td>10</td>\n",
       "      <td>0</td>\n",
       "      <td>0</td>\n",
       "      <td>NaN</td>\n",
       "      <td>NaN</td>\n",
       "      <td>NaN</td>\n",
       "    </tr>\n",
       "    <tr>\n",
       "      <th>58</th>\n",
       "      <td>1.001685e+09</td>\n",
       "      <td>0</td>\n",
       "      <td>0</td>\n",
       "      <td>0</td>\n",
       "      <td>0</td>\n",
       "      <td>0</td>\n",
       "      <td>NaN</td>\n",
       "      <td>NaN</td>\n",
       "      <td>NaN</td>\n",
       "    </tr>\n",
       "  </tbody>\n",
       "</table>\n",
       "</div>"
      ],
      "text/plain": [
       "      Student ID Lab 1 Lab 2 Lab 3 Lab 4 Exam 1 Lab 5  Lab 6  Lab 7\n",
       "0   1.000954e+09   100    81    25    35      0   NaN    NaN    NaN\n",
       "2   1.000626e+09    95    87     0    88    120   NaN    NaN    NaN\n",
       "4   1.000848e+09   100     0     0     0     90   NaN    NaN    NaN\n",
       "6   1.001108e+09    90    96     0    35     90   NaN    NaN    NaN\n",
       "8   1.001000e+09    95    94    43     0    100   NaN    NaN    NaN\n",
       "10  1.001214e+09    80    82    30     0     90   NaN    NaN    NaN\n",
       "12  1.001428e+09    80    90    24     0     80   NaN    NaN    NaN\n",
       "14  1.001397e+09   100    94    87    12    105   NaN    NaN    NaN\n",
       "16  1.001373e+09   100    70    17    35     20   NaN    NaN    NaN\n",
       "18  1.001558e+09    95    86     0     0     84   NaN    NaN    NaN\n",
       "20  1.001593e+09   100    96    96    85    120   NaN    NaN    NaN\n",
       "22  1.001596e+09    90    92    71    57    100   NaN    NaN    NaN\n",
       "24  1.001609e+09   100    94    36    61     95   NaN    NaN    NaN\n",
       "26  1.001618e+09   100    96    97    86    110   NaN    NaN    NaN\n",
       "28  1.001653e+09   100    90     0     0      0   NaN    NaN    NaN\n",
       "30  1.001659e+09   100    94    96    92    100   NaN    NaN    NaN\n",
       "32  1.001663e+09    95    94    38     0     82   NaN    NaN    NaN\n",
       "34  1.001674e+09    95    90    23     0      0   NaN    NaN    NaN\n",
       "36  1.001722e+09    95   100     0     0      0   NaN    NaN    NaN\n",
       "38  1.001544e+09   100    96    19    51    111   NaN    NaN    NaN\n",
       "40  1.001548e+09   100    94    86    75    100   NaN    NaN    NaN\n",
       "42  1.001458e+09    85    88    21    37     50   NaN    NaN    NaN\n",
       "44  1.001497e+09   100    98   100   100    120   NaN    NaN    NaN\n",
       "46  1.001520e+09   100    94    85    50    115   NaN    NaN    NaN\n",
       "48  1.001774e+09   100    94    20    79    120   NaN    NaN    NaN\n",
       "50  1.001697e+09     0    96     0    40    100   NaN    NaN    NaN\n",
       "52  1.001233e+09    80    94    79    60     90   NaN    NaN    NaN\n",
       "54  1.001465e+09    95    94     0     0    105   NaN    NaN    NaN\n",
       "56  1.001645e+09    80    80    10     0      0   NaN    NaN    NaN\n",
       "58  1.001685e+09     0     0     0     0      0   NaN    NaN    NaN"
      ]
     },
     "execution_count": 4,
     "metadata": {},
     "output_type": "execute_result"
    }
   ],
   "source": [
    "df_0"
   ]
  },
  {
   "cell_type": "code",
   "execution_count": 5,
   "metadata": {},
   "outputs": [],
   "source": [
    "exam_1_df=df_0[\"Exam 1\"].astype('int32')"
   ]
  },
  {
   "cell_type": "code",
   "execution_count": 6,
   "metadata": {},
   "outputs": [],
   "source": [
    "grade_def = [(\"A+\",100),\n",
    "             (\"A\",90),\n",
    "             (\"B\",80), \n",
    "             (\"C\",70),\n",
    "             (\"D\",60),\n",
    "             (\"F\",0) ]\n",
    "\n",
    "grades=OrderedDict(grade_def[::-1])\n",
    "\n",
    "grades_inverse=OrderedDict(zip(list(grades.values())[::-1],\n",
    "                               list(grades.keys())[::-1]))"
   ]
  },
  {
   "cell_type": "code",
   "execution_count": 8,
   "metadata": {},
   "outputs": [
    {
     "data": {
      "text/plain": [
       "0"
      ]
     },
     "execution_count": 8,
     "metadata": {},
     "output_type": "execute_result"
    }
   ],
   "source": [
    "grades[\"F\"]"
   ]
  },
  {
   "cell_type": "code",
   "execution_count": 9,
   "metadata": {},
   "outputs": [],
   "source": [
    "def grade_summary(df_0,grades,min_grade=0.):\n",
    "    df=df_0[df_0>min_grade]\n",
    "    N_total=sum(df>min_grade)\n",
    "    hist,bins=np.histogram(df,bins=list(grades.values()))\n",
    "\n",
    "    print(\"Mean:\",np.mean(df))\n",
    "    print(\"Std:\",np.std(df))\n",
    "    \n",
    "    for grade_letter,bin_count in zip(grades.keys(),hist):\n",
    "        print(grade_letter+\": \"+str(bin_count),\n",
    "              float(bin_count/N_total) )\n",
    "    "
   ]
  },
  {
   "cell_type": "code",
   "execution_count": 10,
   "metadata": {},
   "outputs": [
    {
     "name": "stdout",
     "output_type": "stream",
     "text": [
      "Mean: 95.70833333333333\n",
      "Std: 22.322408708639745\n",
      "F: 2 0.08333333333333333\n",
      "D: 0 0.0\n",
      "C: 0 0.0\n",
      "B: 3 0.125\n",
      "A: 10 0.4166666666666667\n"
     ]
    }
   ],
   "source": [
    "grade_summary(exam_1_df,grades)"
   ]
  },
  {
   "cell_type": "code",
   "execution_count": 11,
   "metadata": {},
   "outputs": [],
   "source": [
    "def compute_curve(df_0, min_grade=None):\n",
    "\n",
    "    if min_grade:\n",
    "        pass\n",
    "    else:\n",
    "        min_grade=np.max(df_0)/2.\n",
    "    \n",
    "    print(\"Min grade:\",min_grade)\n",
    "\n",
    "    df=df_0[df_0>min_grade]\n",
    "    N_total=sum(df_0>min_grade)\n",
    "    \n",
    "    print(\"N Total (post cut):\",N_total)\n",
    "    print(\"N Total (pre cut):\",df_0.shape)\n",
    "    \n",
    "    mean=np.mean(df)\n",
    "    std=np.std(df)\n",
    "\n",
    "    print(\"Mean:\",mean)\n",
    "    print(\"Std:\",std)\n",
    "    \n",
    "    grade_def=[(\"A+\",np.max(df)),\n",
    "               (\"A\", min(np.max(df),mean+std)),\n",
    "               (\"B\",mean), \n",
    "               (\"C\",mean-std),\n",
    "               (\"D\",mean-2*std),\n",
    "               (\"F\",0.)]\n",
    "    \n",
    "    grade_def.reverse()\n",
    "    grades=OrderedDict( grade_def )\n",
    "    \n",
    "    \n",
    "    hist,bins=np.histogram(df,bins=list(grades.values()))\n",
    "    \n",
    "    _=plt.hist(df)\n",
    "    plt.show()\n",
    "    \n",
    "    for grade_letter,bin_count,min_grade in zip(grades.keys(),hist,grades.values()):\n",
    "        print(\"{:2.2f}\".format(min_grade),\n",
    "              grade_letter+\": \"+str(bin_count),\n",
    "              \"{:2.2f}%\".format(100.*float(bin_count/N_total)) )\n",
    "    return grades\n",
    "    "
   ]
  },
  {
   "cell_type": "code",
   "execution_count": 12,
   "metadata": {},
   "outputs": [
    {
     "name": "stdout",
     "output_type": "stream",
     "text": [
      "Min grade: 60\n",
      "N Total (post cut): 22\n",
      "N Total (pre cut): (30,)\n",
      "Mean: 101.22727272727273\n",
      "Std: 12.555085236240183\n"
     ]
    },
    {
     "data": {
      "image/png": "[encoded data removed]",
      "text/plain": [
       "<Figure size 432x288 with 1 Axes>"
      ]
     },
     "metadata": {
      "needs_background": "light"
     },
     "output_type": "display_data"
    },
    {
     "name": "stdout",
     "output_type": "stream",
     "text": [
      "0.00 F: 0 0.00%\n",
      "76.12 D: 3 13.64%\n",
      "88.67 C: 10 45.45%\n",
      "101.23 B: 4 18.18%\n",
      "113.78 A: 5 22.73%\n"
     ]
    },
    {
     "data": {
      "text/plain": [
       "OrderedDict([('F', 0.0),\n",
       "             ('D', 76.11710225479237),\n",
       "             ('C', 88.67218749103255),\n",
       "             ('B', 101.22727272727273),\n",
       "             ('A', 113.78235796351292),\n",
       "             ('A+', 120)])"
      ]
     },
     "execution_count": 12,
     "metadata": {},
     "output_type": "execute_result"
    }
   ],
   "source": [
    "compute_curve(exam_1_df,60)"
   ]
  },
  {
   "cell_type": "markdown",
   "metadata": {},
   "source": [
    "## Grading Strategies\n",
    "\n",
    "Thinking about what we did, we noticed that we have 2 grading strategies:\n",
    "1. \"Standard\": 70, 80, 90 scheme.\n",
    "2. \"Curved\": Using mean and standard deviation.\n",
    "\n",
    "There is a third strategy that I often apply when the grade distribution doesn't look like a normal distribution. When we curve the letter grades mean the following, based on the fact that 68% of normal distribution lies between -1 and 1 $\\sigma$ of the mean.\n",
    "\n",
    "* B and C: comprise of the 68% of the students withing 1 $\\sigma$ of the mean, with the top 34% subset assigned a B and the bottom 34% assigned a C. Nearly all of the remaining 32% of the students will be within 2 $\\sigma$ of the mean.\n",
    "* A: The approximately 16% that are more than 1 $\\sigma$ above the mean are assigned an A.\n",
    "* D: The approximately 16% that are more are between 1 $\\sigma$ and 2 $\\sigma$ below the mean are assigned a D.\n",
    "\n",
    "All of this assume a normal distribution. If the grade distribution isn't normal, we can still assign grades in a way that we could interpret in the same way as the curved grades by simply assigning the top 16% an A, next 32% B, then assign C to the 32% and D to the the 16% after.\n",
    "\n",
    "\n",
    "## Disecting the Task at Hand\n",
    "\n",
    "We can also note that all the stragegies are defined by the boundries between letter grades. Therefore we can factorize the operation of assigning a letter grade into several steps:\n",
    "* Perform statistical analysis of the grades to obtain basic parameters.\n",
    "    * Minimum cut-off\n",
    "    * Mean / Sigma\n",
    "* Establish grade boundries.\n",
    "    * Potentially apply several strategies.\n",
    "    * Select a strategy appropriate for given distribution of grades.\n",
    "* Use grade boundries to assign grades.\n",
    "* Validate the assigned grades.\n",
    "\n"
   ]
  },
  {
   "cell_type": "markdown",
   "metadata": {},
   "source": [
    "## Organizing Our Code\n",
    "\n",
    "It is possible to perform the steps above without any (or with minimal) generalization or abstraction (ie using functions). We could work out a grade with a series of steps... then copy and paste for the other grades. The benefits would be that without generalization, we could fine tune every grade easily. But it could become tedious and our results would be error prone.\n",
    "\n",
    "Alternatively, we can recognize that each of the steps above can be done with a set of functions that have the same inputs and outputs:\n",
    "\n",
    "* Statistical Analysis Functions: Input list of grades. Output mean, standard deviation, and minium grade.\n",
    "* Grade Boundries Functions: Input stats (and list of grades). Output boundries.\n",
    "* Assign Grades Function: Input boundries and list grades. Output corresponding list of assigned letter grades.\n",
    "* Validate Function: Input assigned letter grades, output percentage of each grade.\n",
    "\n",
    "In addition, we will need to do a weighted sum of the grades to assign a class grade. \n",
    "\n",
    "We also have to note that beyond the procedural steps, we will have to make choices about how we represent the input/output data of each step. For example, previously we represented grade boundries as an `OrderedDict`. \n",
    "\n"
   ]
  },
  {
   "cell_type": "markdown",
   "metadata": {},
   "source": [
    "## Building a System\n",
    "\n",
    "We are starting to recognize that depending on the context, we may choose different levels of sophistication for our code to solve a problem:\n",
    "\n",
    "* Quickly solve a problem once: Cut and paste can be sufficient.\n",
    "* Scale or solve the problem on many data points: Implement functions that perform tasks.\n",
    "* Solve the same problem with different data: Identify tasks and generalize functions with defined input/outputs\n",
    "* Enable others to use your code to solve the same problem.\n",
    "* Build a production system or service that solves the problem.\n",
    "\n"
   ]
  },
  {
   "cell_type": "markdown",
   "metadata": {},
   "source": [
    "## An Object Oriented Approach\n",
    "\n",
    "Object Oriented programming is not required to solve problems. But in many cases, OO can greatly simplify the development process and ability to further add functionality to the code. Even within OO, there are many approaches to solving the same problem, and while some may have advatanges, often it takes several iterations and revisions to approach optimality... and even then, there are stylistic and historical choices.\n",
    "\n",
    "Lets explore one OO approach to building a Grade Book system.\n"
   ]
  },
  {
   "cell_type": "markdown",
   "metadata": {},
   "source": [
    "## Base Classes"
   ]
  },
  {
   "cell_type": "code",
   "execution_count": 13,
   "metadata": {},
   "outputs": [],
   "source": [
    "# Create some virtual classes\n",
    "\n",
    "class base:\n",
    "    __name=\"\"\n",
    "    \n",
    "    def __init__(self,name):\n",
    "        self.__name=name\n",
    "\n",
    "    def name(self):\n",
    "        return self.__name\n",
    "    \n",
    "\n",
    "class data(base):\n",
    "    def __init__(self,name):\n",
    "        base.__init__(self,name)\n",
    "        \n",
    "class alg(base):\n",
    "    def __init__(self,name):\n",
    "        base.__init__(self,name)\n"
   ]
  },
  {
   "cell_type": "code",
   "execution_count": 14,
   "metadata": {},
   "outputs": [
    {
     "data": {
      "text/plain": [
       "'Hello'"
      ]
     },
     "execution_count": 14,
     "metadata": {},
     "output_type": "execute_result"
    }
   ],
   "source": [
    "a=alg(\"Hello\")\n",
    "a.name()"
   ]
  },
  {
   "cell_type": "code",
   "execution_count": 15,
   "metadata": {},
   "outputs": [
    {
     "data": {
      "text/plain": [
       "['__class__',\n",
       " '__delattr__',\n",
       " '__dict__',\n",
       " '__dir__',\n",
       " '__doc__',\n",
       " '__eq__',\n",
       " '__format__',\n",
       " '__ge__',\n",
       " '__getattribute__',\n",
       " '__gt__',\n",
       " '__hash__',\n",
       " '__init__',\n",
       " '__init_subclass__',\n",
       " '__le__',\n",
       " '__lt__',\n",
       " '__module__',\n",
       " '__ne__',\n",
       " '__new__',\n",
       " '__reduce__',\n",
       " '__reduce_ex__',\n",
       " '__repr__',\n",
       " '__setattr__',\n",
       " '__sizeof__',\n",
       " '__str__',\n",
       " '__subclasshook__',\n",
       " '__weakref__',\n",
       " '_base__name',\n",
       " 'name']"
      ]
     },
     "execution_count": 15,
     "metadata": {},
     "output_type": "execute_result"
    }
   ],
   "source": [
    "dir(a)"
   ]
  },
  {
   "cell_type": "markdown",
   "metadata": {},
   "source": [
    "## Grade Representation\n",
    "\n",
    "We note that we have two types of grades: numerical and letter. We have a choice of how to represent grades. Below is one. What might be another way?"
   ]
  },
  {
   "cell_type": "code",
   "execution_count": 18,
   "metadata": {},
   "outputs": [],
   "source": [
    "class grade(data):\n",
    "    __letter_grades=[\"F-\",\"F\",\"F+\",\"D-\",\"D\",\"D+\",\"C-\",\"C\",\"C+\",\"B-\",\"B\",\"B+\",\"A-\",\"A\",\"A+\"]\n",
    "    \n",
    "    def __init__(self,name,numerical=True,value=None):\n",
    "        self.__value=value\n",
    "        self.__numerical=numerical\n",
    "        self.__gradebook_name=str()\n",
    "        \n",
    "        if value:\n",
    "            if isinstance(value,(int,float)):\n",
    "                self.__numerical=True\n",
    "            elif isinstance(value,str):\n",
    "                self.__numerical=False\n",
    "            self.set(value)\n",
    "        else:            \n",
    "            self.__numerical=numerical\n",
    "        self.__gradebook_name=name\n",
    "        data.__init__(self,name+\" Grade Data Object\")        \n",
    "\n",
    "    def set(self,value):\n",
    "        if isinstance(value,(int,float)) and self.__numerical:\n",
    "            self.__value=value\n",
    "        elif isinstance(value,str) and not self.__numerical:\n",
    "            if value in self.__letter_grades:\n",
    "                self.__value=value\n",
    "        else:\n",
    "            print( self.name()+\" Error: Bad Grade.\")\n",
    "            raise Exception\n",
    "    \n",
    "    def value(self):\n",
    "        return self.__value\n",
    "    \n",
    "    def numerical(self):\n",
    "        return self.__numerical\n",
    "    \n",
    "    def gradebook_name(self):\n",
    "        return self.__gradebook_name\n",
    "    \n",
    "    def __str__(self):\n",
    "        return self.__gradebook_name+\": \"+str(self.__value)\n"
   ]
  },
  {
   "cell_type": "markdown",
   "metadata": {},
   "source": [
    "## Student Representation"
   ]
  },
  {
   "cell_type": "code",
   "execution_count": 19,
   "metadata": {},
   "outputs": [],
   "source": [
    "class student(data):\n",
    "    \n",
    "    def __init__(self, first_name, last_name, id_number):\n",
    "        self.__grades=dict()\n",
    "        self.__id_number=id_number\n",
    "        data.__init__(self,first_name+\" \"+last_name+\" Student Data\")\n",
    "\n",
    "    def add_grade(self,a_grade,overwrite=False):\n",
    "        if overwrite or not a_grade.gradebook_name() in self.__grades:\n",
    "            self.__grades[a_grade.gradebook_name()]=a_grade\n",
    "        else:\n",
    "            print (self.name()+\" Error Adding Grade \"+a_grade.name()+\". Grade already exists.\")\n",
    "            raise Exception\n",
    "\n",
    "    def id_number(self):\n",
    "        return __id_number\n",
    "    \n",
    "    def __getitem__(self,key):\n",
    "        return self.__grades[key]\n",
    "    \n",
    "    def print_grades(self):\n",
    "        for grade in self.__grades:\n",
    "            print (self.__grades[grade])"
   ]
  },
  {
   "cell_type": "code",
   "execution_count": 20,
   "metadata": {},
   "outputs": [
    {
     "name": "stdout",
     "output_type": "stream",
     "text": [
      "Exam 1: 95\n",
      "Exam 1 Letter: A\n"
     ]
    }
   ],
   "source": [
    "a_student=student(\"John\",\"Doe\",111)\n",
    "\n",
    "a_student.add_grade(grade(\"Exam 1\",value=95))\n",
    "a_student.add_grade(grade(\"Exam 1 Letter\",value=\"A\"))\n",
    "\n",
    "a_student.print_grades()"
   ]
  },
  {
   "cell_type": "markdown",
   "metadata": {},
   "source": [
    "## Grade Calculator"
   ]
  },
  {
   "cell_type": "code",
   "execution_count": 21,
   "metadata": {},
   "outputs": [],
   "source": [
    "class grade_calculator(alg):    \n",
    "    def __init__(self,name,stats):\n",
    "        self.__stats=stats\n",
    "        alg.__init__(self,name)\n",
    "\n",
    "    def apply(self,a_grade):\n",
    "        raise NotImplementedError\n",
    "        \n",
    "\n",
    "class uncurved_letter_grade_percent(grade_calculator):\n",
    "    __grades_definition=[ (.97,\"A+\"),\n",
    "                          (.93,\"A\"),\n",
    "                          (.9,\"A-\"),\n",
    "                          (.87,\"B+\"),\n",
    "                          (.83,\"B\"),\n",
    "                          (.8,\"B-\"),\n",
    "                          (.77,\"C+\"),\n",
    "                          (.73,\"C\"),\n",
    "                          (.7,\"C-\"),\n",
    "                          (.67,\"C+\"),\n",
    "                          (.63,\"C\"),\n",
    "                          (.6,\"C-\"),\n",
    "                          (.57,\"F+\"),\n",
    "                          (.53,\"F\"),\n",
    "                          (0.,\"F-\")]\n",
    "    __max_grade=100.\n",
    "    __grade_name=str()\n",
    "    \n",
    "    def __init__(self,grade_name,max_grade=100.):\n",
    "        self.__max_grade=max_grade\n",
    "        self.__grade_name=grade_name\n",
    "        grade_calculator.__init__(self,\n",
    "                                  \"Uncurved Percent Based Grade Calculator \"+self.__grade_name+\" Max=\"+str(self.__max_grade),\n",
    "                                 False)\n",
    "        \n",
    "\n",
    "    def apply(self,a_grade):\n",
    "        if not isinstance(a_grade,grade):\n",
    "            print (self.name()+ \" Error: Did not get an proper grade as input.\")\n",
    "            raise Exception\n",
    "        if not a_grade.numerical():\n",
    "            print (self.name()+ \" Error: Did not get a numerical grade as input.\")\n",
    "            raise Exception\n",
    "\n",
    "        percent=a_grade.value()/self.__max_grade\n",
    "        \n",
    "        for i,v in enumerate(self.__grades_definition):\n",
    "            if percent>=v[0]:\n",
    "                break\n",
    "                            \n",
    "        return grade(self.__grade_name,value=self.__grades_definition[i][1])\n",
    "            "
   ]
  },
  {
   "cell_type": "code",
   "execution_count": 22,
   "metadata": {},
   "outputs": [
    {
     "name": "stdout",
     "output_type": "stream",
     "text": [
      "Exam 1 Test Grade: A\n"
     ]
    }
   ],
   "source": [
    "a_grader=uncurved_letter_grade_percent(grade_name=\"Exam 1 Test Grade\")\n",
    "print(a_grader.apply(a_student[\"Exam 1\"]))"
   ]
  },
  {
   "cell_type": "code",
   "execution_count": 24,
   "metadata": {},
   "outputs": [
    {
     "name": "stdout",
     "output_type": "stream",
     "text": [
      "Exam 1 Test Grade: B-\n"
     ]
    }
   ],
   "source": [
    "print(a_grader.apply(grade(\"Test Grade\",value=81.)))"
   ]
  },
  {
   "cell_type": "code",
   "execution_count": 25,
   "metadata": {},
   "outputs": [],
   "source": [
    "class curved_letter_grade(grade_calculator):\n",
    "    __grades_definition=[ (.97,\"A+\"),\n",
    "                          (.93,\"A\"),\n",
    "                          (.9,\"A-\"),\n",
    "                          (.87,\"B+\"),\n",
    "                          (.83,\"B\"),\n",
    "                          (.8,\"B-\"),\n",
    "                          (.77,\"C+\"),\n",
    "                          (.73,\"C\"),\n",
    "                          (.7,\"C-\"),\n",
    "                          (.67,\"C+\"),\n",
    "                          (.63,\"C\"),\n",
    "                          (.6,\"C-\"),\n",
    "                          (.57,\"F+\"),\n",
    "                          (.53,\"F\"),\n",
    "                          (0.,\"F-\")]\n",
    "    __max_grade=100.\n",
    "    __grade_name=str()\n",
    "    \n",
    "    def __init__(self,grade_name,mean,std,max_grade=100.):\n",
    "        self.__max_grade=max_grade\n",
    "        self.__mean=mean\n",
    "        self.__std=std\n",
    "        self.__grade_name=grade_name\n",
    "        grade_calculator.__init__(self,\n",
    "                                  \"Curved Percent Based Grade Calculator \"+self.__grade_name+ \\\n",
    "                                  \" Mean=\"+str(self.__mean)+\\\n",
    "                                  \" STD=\"+str(self.__std)+\\\n",
    "                                  \" Max=\"+str(self.__max_grade),\n",
    "                                   False)\n",
    "        \n",
    "\n",
    "    def apply(self,a_grade):\n",
    "        if not isinstance(a_grade,grade):\n",
    "            print (self.name()+ \" Error: Did not get an proper grade as input.\")\n",
    "            raise Exception\n",
    "        if not a_grade.numerical():\n",
    "            print (self.name()+ \" Error: Did not get a numerical grade as input.\")\n",
    "            raise Exception\n",
    "    \n",
    "        # Rescale the grade\n",
    "        percent=a_grade.value()/self.__max_grade\n",
    "        shift_to_zero=percent-(self.__mean/self.__max_grade)\n",
    "        scale_std=0.1*shift_to_zero/(self.__std/self.__max_grade)\n",
    "        scaled_percent=scale_std+0.8\n",
    "        \n",
    "        for i,v in enumerate(self.__grades_definition):\n",
    "            if scaled_percent>=v[0]:\n",
    "                break\n",
    "                            \n",
    "        return grade(self.__grade_name,value=self.__grades_definition[i][1])\n",
    "            "
   ]
  },
  {
   "cell_type": "code",
   "execution_count": 26,
   "metadata": {},
   "outputs": [
    {
     "name": "stdout",
     "output_type": "stream",
     "text": [
      "Exam 1: 70\n",
      "Exam 1 Letter: A\n"
     ]
    }
   ],
   "source": [
    "a_student=student(\"John\",\"Doe\",111)\n",
    "\n",
    "a_student.print_grades()\n",
    "\n",
    "a_student.add_grade(grade(\"Exam 1\",value=70))\n",
    "a_student.add_grade(grade(\"Exam 1 Letter\",value=\"A\"))\n",
    "\n",
    "a_student.print_grades()"
   ]
  },
  {
   "cell_type": "code",
   "execution_count": 27,
   "metadata": {},
   "outputs": [
    {
     "name": "stdout",
     "output_type": "stream",
     "text": [
      "Exam 1 Test Grade: A+\n"
     ]
    }
   ],
   "source": [
    "a_grader=curved_letter_grade(grade_name=\"Exam 1 Test Grade\",mean=50.,std=10.)\n",
    "print( a_grader.apply(a_student[\"Exam 1\"]))"
   ]
  },
  {
   "cell_type": "code",
   "execution_count": 28,
   "metadata": {},
   "outputs": [
    {
     "name": "stdout",
     "output_type": "stream",
     "text": [
      "Exam 1 Test Grade: A+\n"
     ]
    }
   ],
   "source": [
    "print( a_grader.apply(grade(\"Test Grade\",value=75.)))"
   ]
  },
  {
   "cell_type": "markdown",
   "metadata": {},
   "source": [
    "## Stats Computation"
   ]
  },
  {
   "cell_type": "code",
   "execution_count": null,
   "metadata": {},
   "outputs": [],
   "source": [
    "import numpy as np\n",
    "import math\n",
    "\n",
    "class statistics_calculator(alg):    \n",
    "    def __init__(self,name):\n",
    "        alg.__init__(self,name)\n",
    "\n",
    "    def apply(self,grades):\n",
    "        raise NotImplementedError\n",
    "        \n",
    "class mean_std_calculator(statistics_calculator):\n",
    "    def __init__(self):\n",
    "        statistics_calculator.__init__(self,\"Mean and Standard Deviation Calculator\")\n",
    "        \n",
    "    def apply(self,grades):\n",
    "        return np.mean(grades),math.sqrt(np.var(grades))\n",
    "\n"
   ]
  },
  {
   "cell_type": "markdown",
   "metadata": {},
   "source": [
    "## Grade Summing"
   ]
  },
  {
   "cell_type": "code",
   "execution_count": null,
   "metadata": {},
   "outputs": [],
   "source": [
    "class summary_calculator(alg):    \n",
    "    def __init__(self,name):\n",
    "        alg.__init__(self,name)\n",
    "\n",
    "    def apply(self,a_student):\n",
    "        raise NotImplementedError\n",
    "        \n",
    "class grade_summer(summary_calculator):\n",
    "    def __init__(self,prefix,n):\n",
    "        self.__prefix=prefix\n",
    "        self.__n=n\n",
    "        statistics_calculator.__init__(self,\"Sum Grades\")\n",
    "        \n",
    "    def apply(self,a_student):\n",
    "        labels=[prefix+str(x) for x in range(1,n)]\n",
    "        \n",
    "        grade_sum=0.\n",
    "        for label in labels:\n",
    "            grade_sum+=a_student[label]\n",
    "            \n",
    "        a_student.add_grade(grade(prefix+\"sum\",value=grade_sum))"
   ]
  },
  {
   "cell_type": "markdown",
   "metadata": {},
   "source": [
    "## Gradebook"
   ]
  },
  {
   "cell_type": "code",
   "execution_count": null,
   "metadata": {},
   "outputs": [],
   "source": [
    "class grade_book(data):\n",
    "    \n",
    "    def __init__(self,name):\n",
    "        data.__init__(self,name+\" Course Grade Book\")\n",
    "        self.__students=dict()\n",
    "    \n",
    "    def add_student(self,a_student):\n",
    "        self.__students[a_student.id_number]=a_student\n",
    "        \n",
    "    def assign_grade(self,key,a_grade):\n",
    "        the_student=None\n",
    "        try:\n",
    "            the_student=self.__students[key]\n",
    "        except:\n",
    "            for id in self.__students:\n",
    "                if key == self.__students[id].name():\n",
    "                    the_student=self.__students[id]\n",
    "                    break\n",
    "        if the_student:\n",
    "            the_student.add_grade(a_grade)\n",
    "        else:\n",
    "            print (self.name()+\" Error: Did not find student.\")\n",
    "            \n",
    "    def apply_grader(self,a_grader,grade_name):\n",
    "        for k,a_student in self.__students.items():\n",
    "            a_student.add_grade(a_grader.apply(a_student[grade_name]))\n",
    "            \n",
    "    def apply_stats(self,a_stat_comp,grade_name):\n",
    "        grades=list()\n",
    "        for k,a_student in self.__students.iteritems():\n",
    "            grades.append(a_student[grade_name].value())\n",
    "            \n",
    "        return a_stat_comp.apply(grades)\n",
    "        \n",
    "    "
   ]
  },
  {
   "cell_type": "markdown",
   "metadata": {},
   "source": [
    "## Building a Gradebook"
   ]
  },
  {
   "cell_type": "code",
   "execution_count": null,
   "metadata": {},
   "outputs": [],
   "source": [
    "df_0.keys()"
   ]
  },
  {
   "cell_type": "code",
   "execution_count": null,
   "metadata": {},
   "outputs": [],
   "source": [
    "for d in df_0.iterrows():\n",
    "    print(type(d))"
   ]
  },
  {
   "cell_type": "code",
   "execution_count": null,
   "metadata": {},
   "outputs": [],
   "source": [
    "df_0[\"Lab 1\"]"
   ]
  },
  {
   "cell_type": "code",
   "execution_count": null,
   "metadata": {},
   "outputs": [],
   "source": [
    "a_grade_book=grade_book(\"Data 1401\")\n",
    "\n",
    "for student_i in range(df_0.shape[0]):\n",
    "    a_student_0=student(\"Student\",str(student_i),student_i)\n",
    "\n",
    "    for k in df_0.keys():\n",
    "        a_student_0.add_grade(grade(k,value=df_0[k][student_i]))\n",
    "\n",
    "    a_grade_book.add_student(a_student_0)\n",
    "        "
   ]
  },
  {
   "cell_type": "code",
   "execution_count": null,
   "metadata": {},
   "outputs": [],
   "source": [
    "a_grade_book.apply_stats(mean_std_calculator(),\"l2_3\")"
   ]
  },
  {
   "cell_type": "code",
   "execution_count": null,
   "metadata": {},
   "outputs": [],
   "source": []
  }
 ],
 "metadata": {
  "kernelspec": {
   "display_name": "Python 3",
   "language": "python",
   "name": "python3"
  },
  "language_info": {
   "codemirror_mode": {
    "name": "ipython",
    "version": 3
   },
   "file_extension": ".py",
   "mimetype": "text/x-python",
   "name": "python",
   "nbconvert_exporter": "python",
   "pygments_lexer": "ipython3",
   "version": "3.8.0"
  }
 },
 "nbformat": 4,
 "nbformat_minor": 2
}
