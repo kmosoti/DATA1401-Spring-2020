{
  "nbformat": 4,
  "nbformat_minor": 0,
  "metadata": {
    "kernelspec": {
      "display_name": "Python 3",
      "language": "python",
      "name": "python3"
    },
    "language_info": {
      "codemirror_mode": {
        "name": "ipython",
        "version": 3
      },
      "file_extension": ".py",
      "mimetype": "text/x-python",
      "name": "python",
      "nbconvert_exporter": "python",
      "pygments_lexer": "ipython3",
      "version": "3.8.0"
    },
    "colab": {
      "name": "Final.ipynb",
      "provenance": [],
      "collapsed_sections": []
    }
  },
  "cells": [
    {
      "cell_type": "markdown",
      "metadata": {
        "id": "nezPujei6VDW",
        "colab_type": "text"
      },
      "source": [
        "# Final Exam\n",
        "\n",
        "[![Open In Colab](https://colab.research.google.com/assets/colab-badge.svg)](https://colab.research.google.com/github//afarbin/DATA1401-Spring-2020/blob/master/Exams/Final/Final.ipynb)"
      ]
    },
    {
      "cell_type": "markdown",
      "metadata": {
        "id": "0Y7ukZxt6VDY",
        "colab_type": "text"
      },
      "source": [
        "Recall the drawing system from lecture 18:"
      ]
    },
    {
      "cell_type": "code",
      "metadata": {
        "id": "EaZNq6j06VDa",
        "colab_type": "code",
        "colab": {}
      },
      "source": [
        "class Canvas:\n",
        "    def __init__(self, width, height):\n",
        "        self.width = width\n",
        "        self.height = height\n",
        "        self.data = [[' '] * width for i in range(height)]\n",
        "\n",
        "    def set_pixel(self, row, col, char='*'):\n",
        "        self.data[row][col] = char\n",
        "\n",
        "    def get_pixel(self, row, col):\n",
        "        return self.data[row][col]\n",
        "    \n",
        "    def h_line(self, x, y, w, **kargs):\n",
        "        for i in range(x,x+w):\n",
        "            self.set_pixel(i,y, **kargs)\n",
        "\n",
        "    def v_line(self, x, y, h, **kargs):\n",
        "        for i in range(y,y+h):\n",
        "            self.set_pixel(x,i, **kargs)\n",
        "            \n",
        "    def line(self, x1, y1, x2, y2, **kargs):\n",
        "        slope = (y2-y1) / (x2-x1)\n",
        "        for y in range(y1,y2):\n",
        "            x= int(slope * y)\n",
        "            self.set_pixel(x,y, **kargs)\n",
        "            \n",
        "    def display(self):\n",
        "        print(\"\\n\".join([\"\".join(row) for row in self.data]))"
      ],
      "execution_count": 0,
      "outputs": []
    },
    {
      "cell_type": "code",
      "metadata": {
        "id": "9obqWaLu6VDl",
        "colab_type": "code",
        "colab": {}
      },
      "source": [
        "class Shape:\n",
        "    def __init__(self, name=\"\", **kwargs):\n",
        "        self.name=name\n",
        "        self.kwargs=kwargs\n",
        "    \n",
        "    def paint(self, canvas): pass\n",
        "\n",
        "class Rectangle(Shape):\n",
        "    def __init__(self, x, y, w, h, **kwargs):\n",
        "        Shape.__init__(self, **kwargs)\n",
        "        self.x = x\n",
        "        self.y = y\n",
        "        self.w = w\n",
        "        self.h = h\n",
        "\n",
        "    def paint(self, canvas):\n",
        "        canvas.h_line(self.x, self.y, self.w, **self.kwargs)\n",
        "        canvas.h_line(self.x, self.y + self.h, self.w, **self.kwargs)\n",
        "        canvas.v_line(self.x, self.y, self.h, **self.kwargs)\n",
        "        canvas.v_line(self.x + self.w, self.y, self.h, **self.kwargs)\n",
        "\n",
        "class Square(Rectangle):\n",
        "    def __init__(self, x, y, size, **kwargs):\n",
        "        Rectangle.__init__(self, x, y, size, size, **kwargs)\n",
        "\n",
        "class Line(Shape):\n",
        "    def __init__(self, x1, y1, x2, y2,  **kwargs):\n",
        "        Shape.__init__(self, **kwargs)\n",
        "        self.x1=x1\n",
        "        self.y1=y1\n",
        "        self.x2=x2\n",
        "        self.y2=y2\n",
        "        \n",
        "    def paint(self, canvas):\n",
        "        canvas.line(self.x1,self.y1,self.x2,self.y2)\n",
        "        \n",
        "class CompoundShape(Shape):\n",
        "    def __init__(self, shapes):\n",
        "        self.shapes = shapes\n",
        "\n",
        "    def paint(self, canvas):\n",
        "        for s in self.shapes:\n",
        "            s.paint(canvas)"
      ],
      "execution_count": 0,
      "outputs": []
    },
    {
      "cell_type": "code",
      "metadata": {
        "id": "qXnwLMnv6VDr",
        "colab_type": "code",
        "colab": {}
      },
      "source": [
        "class RasterDrawing:\n",
        "    def __init__(self):\n",
        "        self.shapes=dict()\n",
        "        self.shape_names=list()\n",
        "        \n",
        "    def add_shape(self,shape):\n",
        "        if shape.name == \"\":\n",
        "            shape.name = self.assign_name()\n",
        "        \n",
        "        self.shapes[shape.name]=shape\n",
        "        self.shape_names.append(shape.name)\n",
        "        \n",
        "    def paint(self,canvas):\n",
        "        for shape_name in self.shape_names:\n",
        "            self.shapes[shape_name].paint(canvas)\n",
        "            \n",
        "    def assign_name(self):\n",
        "        name_base=\"shape\"\n",
        "        name = name_base+\"_0\"\n",
        "        \n",
        "        i=1\n",
        "        while name in self.shapes:\n",
        "            name = name_base+\"_\"+str(i)\n",
        "            \n",
        "        return name\n"
      ],
      "execution_count": 0,
      "outputs": []
    },
    {
      "cell_type": "code",
      "metadata": {
        "id": "KakVJ4IDTaDm",
        "colab_type": "code",
        "outputId": "3e03b1e4-8d59-4478-d45f-877019adbdb2",
        "colab": {
          "base_uri": "https://localhost:8080/",
          "height": 576
        }
      },
      "source": [
        "c1 = Canvas(30,30)\n",
        "s1 = Square(2,3,20,char=\"^\")\n",
        "s1.paint(c1)\n",
        "c1.display()"
      ],
      "execution_count": 294,
      "outputs": [
        {
          "output_type": "stream",
          "text": [
            "                              \n",
            "                              \n",
            "   ^^^^^^^^^^^^^^^^^^^^^      \n",
            "   ^                   ^      \n",
            "   ^                   ^      \n",
            "   ^                   ^      \n",
            "   ^                   ^      \n",
            "   ^                   ^      \n",
            "   ^                   ^      \n",
            "   ^                   ^      \n",
            "   ^                   ^      \n",
            "   ^                   ^      \n",
            "   ^                   ^      \n",
            "   ^                   ^      \n",
            "   ^                   ^      \n",
            "   ^                   ^      \n",
            "   ^                   ^      \n",
            "   ^                   ^      \n",
            "   ^                   ^      \n",
            "   ^                   ^      \n",
            "   ^                   ^      \n",
            "   ^                   ^      \n",
            "   ^^^^^^^^^^^^^^^^^^^^       \n",
            "                              \n",
            "                              \n",
            "                              \n",
            "                              \n",
            "                              \n",
            "                              \n",
            "                              \n"
          ],
          "name": "stdout"
        }
      ]
    },
    {
      "cell_type": "markdown",
      "metadata": {
        "id": "FbMlaVxm6VDx",
        "colab_type": "text"
      },
      "source": [
        "1. Add `Point` and `Triangle` classes and test them."
      ]
    },
    {
      "cell_type": "code",
      "metadata": {
        "id": "UDAObefT6VDx",
        "colab_type": "code",
        "colab": {}
      },
      "source": [
        "import math\n",
        "class Point(Shape):\n",
        "  def __init__(self, x, y, **kwargs):\n",
        "    #Shape.__init__(self, **kwargs)\n",
        "    self.x = x\n",
        "    self.y = y\n",
        "  def paint(self, canvas):\n",
        "    canvas.set_pixel(self.x,self.y)\n",
        "\n",
        "class Triangle(Shape):\n",
        "  def __init__(self, x, y, b, **kwargs):\n",
        "    Shape.__init__(self, **kwargs)\n",
        "    self.x = x\n",
        "    self.y = y\n",
        "    self.base = b\n",
        "  def paint(self, canvas):\n",
        "    __adjust = 1\n",
        "    __mid = int(self.base/2)\n",
        "    __y2 = __mid\n",
        "    __i = 1\n",
        "    __baseCoor = int(self.base/2+__i)\n",
        "    canvas.v_line(self.x,__baseCoor,2)\n",
        "    for x in range(1,__mid-1):\n",
        "      canvas.set_pixel(self.x+x,__baseCoor+__i+__adjust)\n",
        "      canvas.set_pixel(self.x+x,__y2)\n",
        "      __i = __i+1\n",
        "      __y2 = __y2-1\n",
        "\n",
        "    canvas.v_line(self.x+x+1,self.y,self.base)\n",
        "\n"
      ],
      "execution_count": 0,
      "outputs": []
    },
    {
      "cell_type": "code",
      "metadata": {
        "id": "4ByvZ0WhYlQQ",
        "colab_type": "code",
        "colab": {
          "base_uri": "https://localhost:8080/",
          "height": 576
        },
        "outputId": "136b8c86-73fb-4096-9ffa-eb094e9f8986"
      },
      "source": [
        "c1 = Canvas(30,30)\n",
        "p1 = Point(16,11)\n",
        "p2 = Point(10,29)\n",
        "t1 = Triangle(10,2,20)\n",
        "p1.paint(c1)\n",
        "p2.paint(c1)\n",
        "t1.paint(c1)\n",
        "c1.display()"
      ],
      "execution_count": 296,
      "outputs": [
        {
          "output_type": "stream",
          "text": [
            "                              \n",
            "                              \n",
            "                              \n",
            "                              \n",
            "                              \n",
            "                              \n",
            "                              \n",
            "                              \n",
            "                              \n",
            "                              \n",
            "           **                *\n",
            "          *  *                \n",
            "         *    *               \n",
            "        *      *              \n",
            "       *        *             \n",
            "      *          *            \n",
            "     *     *      *           \n",
            "    *              *          \n",
            "   *                *         \n",
            "  ********************        \n",
            "                              \n",
            "                              \n",
            "                              \n",
            "                              \n",
            "                              \n",
            "                              \n",
            "                              \n",
            "                              \n",
            "                              \n",
            "                              \n"
          ],
          "name": "stdout"
        }
      ]
    },
    {
      "cell_type": "markdown",
      "metadata": {
        "id": "896R6DTi6VD3",
        "colab_type": "text"
      },
      "source": [
        "2. Add an `Arc` class that is instantiated with a center location, two axis lengths, and starting and ending angles. If start and end are not specified or are the same angle, the `Arc` instance should draw an oval. If in addition the two axes are the same, the `Arc` instance should draw a circle. Create `Oval` and `Circle` classes that inherit from `Arc`. Test everything."
      ]
    },
    {
      "cell_type": "code",
      "metadata": {
        "id": "MVkr75U66VD4",
        "colab_type": "code",
        "colab": {}
      },
      "source": [
        "from math import cos,sin,sqrt\n",
        "class Arc(Shape):\n",
        "  def __init__(self, x, theta, radius, **kwargs):\n",
        "    Shape.__init__(self, **kwargs)\n",
        "    self.t = theta\n",
        "    self.r = radius\n",
        "    self.x = x\n",
        "    #self.y = y\n",
        "  def paint(self, canvas):\n",
        "    for angle in range(0, 360):\n",
        "      __x = int(self.r + self.r*cos(angle))\n",
        "      __y = int(self.r + self.r*sin(angle))\n",
        "      if(angle > 180):\n",
        "        canvas.set_pixel(__x,__y)\n"
      ],
      "execution_count": 0,
      "outputs": []
    },
    {
      "cell_type": "markdown",
      "metadata": {
        "id": "AChVHQLV6VD-",
        "colab_type": "text"
      },
      "source": [
        "3. Use your classes to create a `RasterDrawing` that draws a happy face."
      ]
    },
    {
      "cell_type": "code",
      "metadata": {
        "id": "CjPNzW7a6VD_",
        "colab_type": "code",
        "colab": {
          "base_uri": "https://localhost:8080/",
          "height": 594
        },
        "outputId": "eb04e4ff-3c49-4aab-bd0b-e4a05e7c42a8"
      },
      "source": [
        "happyFace = Canvas(30,31)\n",
        "raster = RasterDrawing()\n",
        "face = Arc(30, 180, 15)\n",
        "eye1 = Rectangle(7,7,3,3)\n",
        "eye2 = Rectangle(7,20,3,3)\n",
        "#Adding Facial Features\n",
        "raster.add_shape(face)\n",
        "raster.add_shape(eye1)\n",
        "#raster.add_shape(eye2)\n",
        "raster.paint(happyFace)\n",
        "happyFace.display()"
      ],
      "execution_count": 417,
      "outputs": [
        {
          "output_type": "stream",
          "text": [
            "         *** *** ****         \n",
            "       ***           **       \n",
            "      **               *      \n",
            "     *                  **    \n",
            "   **                    *    \n",
            "   *                      *   \n",
            "  *                        *  \n",
            " *     ****                ** \n",
            " *     *  *                 * \n",
            "*      *  *                 * \n",
            "*      ***                   *\n",
            "*                            *\n",
            "*                            *\n",
            "                             *\n",
            "*                             \n",
            "                             *\n",
            "*                             \n",
            "                             *\n",
            "*                             \n",
            "*                            *\n",
            "**                           *\n",
            " *                          * \n",
            " **                           \n",
            "                           *  \n",
            "   *                      *   \n",
            "    *                    **   \n",
            "    **                  *     \n",
            "      *               *       \n",
            "       **           ***       \n",
            "         **** * ****          \n",
            "                              \n"
          ],
          "name": "stdout"
        }
      ]
    },
    {
      "cell_type": "markdown",
      "metadata": {
        "id": "Ms4-IK7U6VED",
        "colab_type": "text"
      },
      "source": [
        "4. Add to the `Shape` base class a `__str__()` method. Overwrite the method in each shape to generate a string of the python code necessary to reinstantiate the object. For example, for a rectangle originally instantiated using `Square(5,5,20,char=\"^\")`, `__str__()` should return the string `'Square(5,5,20,char=\"^\")'`.\n"
      ]
    },
    {
      "cell_type": "code",
      "metadata": {
        "id": "OFrf9atC6VEE",
        "colab_type": "code",
        "colab": {}
      },
      "source": [
        "class Shape:\n",
        "    def __init__(self, name=\"\", **kwargs):\n",
        "        self.name=name\n",
        "        self.kwargs=kwargs\n",
        "    \n",
        "    def paint(self, canvas): pass\n",
        "\n",
        "    def __str__(self):\n",
        "      return ''.format(self.__name__)\n"
      ],
      "execution_count": 0,
      "outputs": []
    },
    {
      "cell_type": "code",
      "metadata": {
        "id": "-d_CKKIPfNwW",
        "colab_type": "code",
        "colab": {
          "base_uri": "https://localhost:8080/",
          "height": 36
        },
        "outputId": "beecacfc-52fe-46f6-b755-0e1c813d8c51"
      },
      "source": [
        "face = Arc(30, 180, 15)\n",
        "print(face.__str__())"
      ],
      "execution_count": 426,
      "outputs": [
        {
          "output_type": "stream",
          "text": [
            "<__main__.Arc object at 0x7fa32dedf0f0>\n"
          ],
          "name": "stdout"
        }
      ]
    },
    {
      "cell_type": "markdown",
      "metadata": {
        "id": "ccBcwxfb6VEI",
        "colab_type": "text"
      },
      "source": [
        "5. Add to `RasterDrawing` two functions, `save(filename)` and `load(filename)`. The save function writes the `__str__()` of all of the shapes in the drawing to a file (one shape per line). The load function, reads the file, and instantiates each object using the python `eval(expression)` function, and adds each shape to the drawing, thereby recreating a \"saved\" raster drawing. Use this functionality to save and load your happy face.\n",
        "\n",
        "   `eval` takes a string that contains a fragment of a python code and executes it. Consider the following examples: "
      ]
    },
    {
      "cell_type": "code",
      "metadata": {
        "id": "iYIpHvLm6VEJ",
        "colab_type": "code",
        "colab": {}
      },
      "source": [
        "eval(\"print('Hello')\")"
      ],
      "execution_count": 0,
      "outputs": []
    },
    {
      "cell_type": "code",
      "metadata": {
        "id": "XI7TPpHf6VEN",
        "colab_type": "code",
        "colab": {}
      },
      "source": [
        "x = eval('1+2')\n",
        "print(x)"
      ],
      "execution_count": 0,
      "outputs": []
    },
    {
      "cell_type": "code",
      "metadata": {
        "id": "7wYmn-cQ6VEQ",
        "colab_type": "code",
        "colab": {}
      },
      "source": [
        ""
      ],
      "execution_count": 0,
      "outputs": []
    }
  ]
}