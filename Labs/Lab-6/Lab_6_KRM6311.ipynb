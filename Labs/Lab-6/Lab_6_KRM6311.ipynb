{
  "nbformat": 4,
  "nbformat_minor": 0,
  "metadata": {
    "kernelspec": {
      "display_name": "Python 3",
      "language": "python",
      "name": "python3"
    },
    "language_info": {
      "codemirror_mode": {
        "name": "ipython",
        "version": 3
      },
      "file_extension": ".py",
      "mimetype": "text/x-python",
      "name": "python",
      "nbconvert_exporter": "python",
      "pygments_lexer": "ipython3",
      "version": "3.8.1"
    },
    "colab": {
      "name": "Lab_6_KRM6311.ipynb",
      "provenance": [],
      "collapsed_sections": [],
      "toc_visible": true
    }
  },
  "cells": [
    {
      "cell_type": "markdown",
      "metadata": {
        "id": "48SFVBXci_C6",
        "colab_type": "text"
      },
      "source": [
        "# Lab 6\n"
      ]
    },
    {
      "cell_type": "markdown",
      "metadata": {
        "id": "zh8W4zF3i_C7",
        "colab_type": "text"
      },
      "source": [
        "Matrix Representation: In this lab you will be creating a simple linear algebra system. In memory, we will represent matrices as nested python lists as we have done in lecture. \n",
        "\n",
        "1. Create a `matrix` class with the following properties:\n",
        "    * It can be initialized in 2 ways:\n",
        "        1. with arguments `n` and `m`, the size of the matrix. A newly instanciated matrix will contain all zeros.\n",
        "        2. with a list of lists of values. Note that since we are using lists of lists to implement matrices, it is possible that not all rows have the same number of columns. Test explicitly that the matrix is properly specified.\n",
        "    * Matrix instances `M` can be indexed with `M[i][j]` and `M[i,j]`.\n",
        "    * Matrix assignment works in 2 ways:\n",
        "        1. If `M_1` and `M_2` are `matrix` instances `M_1=M_2` sets the values of `M_1` to those of `M_2`, if they are the same size. Error otherwise.\n",
        "        2. In example above `M_2` can be a list of lists of correct size.\n"
      ]
    },
    {
      "cell_type": "code",
      "metadata": {
        "id": "tMHslCjljPY8",
        "colab_type": "code",
        "colab": {}
      },
      "source": [
        "#Problem\n",
        "from itertools import cycle\n",
        "class matrix:\n",
        "  def __init__(self, row=None, column=None,lst=None):\n",
        "    #Takes rows and column input and creates and empty list\n",
        "    if lst == None:\n",
        "      self.row = row\n",
        "      self.column = column\n",
        "      self.data = [[0] * column for i in range(row)]\n",
        "    #Takes passed list and takes the row and length count and creates an even array filled with zeros\n",
        "    elif row == None or column == None:\n",
        "      self.lst = lst\n",
        "      self.row = lst.__len__()\n",
        "      self.column = 0\n",
        "      for i in range(self.row):\n",
        "        if self.column < self.lst[i].__len__():\n",
        "          self.column = self.lst[i].__len__()\n",
        "    self.data = [[0] * self.column for i in range(self.row)]\n",
        "    self.output = [x + y for x, y in zip(cycle(lst), self.data)]\n",
        "    for i in range(self.row):\n",
        "      self.output[i] = self.output[i][0:self.column]     "
      ],
      "execution_count": 0,
      "outputs": []
    },
    {
      "cell_type": "code",
      "metadata": {
        "id": "lsdf-xR0jwik",
        "colab_type": "code",
        "colab": {
          "base_uri": "https://localhost:8080/",
          "height": 36
        },
        "outputId": "6d8b9e17-57fa-48a7-f9dc-b2eef6d662de"
      },
      "source": [
        "#Solution\n",
        "row = 3\n",
        "column = 5\n",
        "lst = [[2,3,4],[4,5,6,7,8],[8,7,4,2,43,5,3,2,90]]\n",
        "test = matrix(None,None,lst)\n",
        "print(test.output)"
      ],
      "execution_count": 87,
      "outputs": [
        {
          "output_type": "stream",
          "text": [
            "[[2, 3, 4, 0, 0, 0, 0, 0, 0], [4, 5, 6, 7, 8, 0, 0, 0, 0], [8, 7, 4, 2, 43, 5, 3, 2, 90]]\n"
          ],
          "name": "stdout"
        }
      ]
    },
    {
      "cell_type": "markdown",
      "metadata": {
        "id": "3rgzyLZ-i_C-",
        "colab_type": "text"
      },
      "source": [
        "2. Add the following methods:\n",
        "    * `shape()`: returns a tuple `(n,m)` of the shape of the matrix.\n",
        "    * `transpose()`: returns a new matrix instance which is the transpose of the matrix.\n",
        "    * `row(n)` and `column(n)`: that return the nth row or column of the matrix M as a new appropriately shaped matrix object.\n",
        "    * `to_list()`: which returns the matrix as a list of lists.\n",
        "    *  `block(n_0,n_1,m_0,m_1)` that returns a smaller matrix located at the n_0 to n_1 columns and m_0 to m_1 rows. \n",
        "    * (Extra credit) Modify `__getitem__` implemented above to support slicing.\n",
        "        "
      ]
    },
    {
      "cell_type": "code",
      "metadata": {
        "id": "nehpsl-zbGlv",
        "colab_type": "code",
        "colab": {}
      },
      "source": [
        "#Solution\n",
        "#Problem\n",
        "from itertools import cycle\n",
        "class matrix:\n",
        "  def __init__(self, row=None, column=None,lst=None):\n",
        "    #Takes rows and column input and creates and empty list\n",
        "    if lst == None:\n",
        "      self.row = row\n",
        "      self.column = column\n",
        "      self.data = [[0] * column for i in range(row)]\n",
        "    #Takes passed list and takes the row and length count and creates an even array filled with zeros\n",
        "    elif row == None or column == None:\n",
        "      self.lst = lst\n",
        "      self.row = lst.__len__()\n",
        "      self.column = 0\n",
        "      for i in range(self.row):\n",
        "        if self.column < self.lst[i].__len__():\n",
        "          self.column = self.lst[i].__len__()\n",
        "    self.data = [[0] * self.column for i in range(self.row)]\n",
        "    self.output = [x + y for x, y in zip(cycle(lst), self.data)]\n",
        "    for i in range(self.row):\n",
        "      self.output[i] = self.output[i][0:self.column]\n",
        "  def shape(self):\n",
        "    return (self.row,self.column)\n",
        "  def transpose(self):\n",
        "    return list(zip(*self.output))\n",
        "  def  row_take(self,n):\n",
        "    if n > self.row:\n",
        "      print(\"Index out of range.\")\n",
        "    else:\n",
        "      return self.output[n]\n",
        "  def column_take(self,n):\n",
        "    if n > self.column:\n",
        "      print(\"Index out of range.\")\n",
        "    else:\n",
        "      __columnList = []\n",
        "      for i in range(self.row):\n",
        "        __columnList.append(self.output[i][n])\n",
        "      return __columnList\n",
        "  def block(self,n_0,n_1,m_0,m_1):\n",
        "    __out = []\n",
        "    #truncate rows\n",
        "    __shortRows = self.output[n_0:n_1]\n",
        "    for i in range(n_0,n_1):\n",
        "        __out.append(__shortRows[i][m_0,m_1])\n",
        "  "
      ],
      "execution_count": 0,
      "outputs": []
    },
    {
      "cell_type": "code",
      "metadata": {
        "id": "CwDMd5k4bG29",
        "colab_type": "code",
        "colab": {
          "base_uri": "https://localhost:8080/",
          "height": 110
        },
        "outputId": "91f7bec7-a2df-4d5d-e276-e6f85401770d"
      },
      "source": [
        "#Implementation\n",
        "lst = [[1,1,1],[2,2,2,2,2,2],[3,3,3,3,3,3,3,3]]\n",
        "test = matrix(None,None,lst)\n",
        "print(\"Here is the even list: \"+str(test.output))\n",
        "print(\"Shape of list \"+str(test.shape()))\n",
        "print(\"Transposition of list \"+str(test.transpose()))\n",
        "print(\"List at Row n: \"+str(test.row_take(1)))\n",
        "print(\"List at Column n: \"+str(test.column_take(6)))\n",
        "#print(\"Blocked list is: \"+str(test.block(0,1,3,5)))"
      ],
      "execution_count": 196,
      "outputs": [
        {
          "output_type": "stream",
          "text": [
            "Here is the even list: [[1, 1, 1, 0, 0, 0, 0, 0], [2, 2, 2, 2, 2, 2, 0, 0], [3, 3, 3, 3, 3, 3, 3, 3]]\n",
            "Shape of list (3, 8)\n",
            "Transposition of list [(1, 2, 3), (1, 2, 3), (1, 2, 3), (0, 2, 3), (0, 2, 3), (0, 2, 3), (0, 0, 3), (0, 0, 3)]\n",
            "List at Row n: [2, 2, 2, 2, 2, 2, 0, 0]\n",
            "List at Column n: [0, 0, 3]\n"
          ],
          "name": "stdout"
        }
      ]
    },
    {
      "cell_type": "markdown",
      "metadata": {
        "id": "yMZfadRNi_C_",
        "colab_type": "text"
      },
      "source": [
        "3. Write functions that create special matrices (note these are standalone functions, not member functions of your `matrix` class):\n",
        "    * `constant(n,m,c)`: returns a `n` by `m` matrix filled with floats of value `c`.\n",
        "    * `zeros(n,m)` and `ones(n,m)`: return `n` by `m` matrices filled with floats of value `0` and `1`, respectively.\n",
        "    * `eye(n)`: returns the n by n identity matrix."
      ]
    },
    {
      "cell_type": "code",
      "metadata": {
        "id": "-NwW0nmZr-rI",
        "colab_type": "code",
        "colab": {}
      },
      "source": [
        "#Problem\n",
        "def constant(n,m,c):\n",
        "  __out = [[float(c)] * n for i in range(m)]\n",
        "  return __out\n",
        "def zeros(n,m):\n",
        "  __out = [[0] * n for i in range(m)]\n",
        "  return __out\n",
        "def ones(n,m):\n",
        "  __out = [[1] * n for i in range(m)]\n",
        "  return __out\n",
        "def eye(n):\n",
        "  __out = [[1] * n for i in range(n)]\n",
        "  return __out"
      ],
      "execution_count": 0,
      "outputs": []
    },
    {
      "cell_type": "code",
      "metadata": {
        "id": "cFnYYjWZsgLH",
        "colab_type": "code",
        "colab": {
          "base_uri": "https://localhost:8080/",
          "height": 91
        },
        "outputId": "2749be0c-f7ee-4417-fdd0-5545497e9773"
      },
      "source": [
        "#Solution\n",
        "n = 3\n",
        "m = 4\n",
        "c = 43\n",
        "print(\"constant: \"+str(constant(n,m,c)))\n",
        "print(\"zeroes: \"+str(zeros(n,m)))\n",
        "print(\"ones: \"+str(ones(n,m)))\n",
        "print(\"eye: \"+str(eye(n)))"
      ],
      "execution_count": 229,
      "outputs": [
        {
          "output_type": "stream",
          "text": [
            "constant: [[43.0, 43.0, 43.0], [43.0, 43.0, 43.0], [43.0, 43.0, 43.0], [43.0, 43.0, 43.0]]\n",
            "zeroes: [[0, 0, 0], [0, 0, 0], [0, 0, 0], [0, 0, 0]]\n",
            "ones: [[1, 1, 1], [1, 1, 1], [1, 1, 1], [1, 1, 1]]\n",
            "eye: [[1, 1, 1], [1, 1, 1], [1, 1, 1]]\n"
          ],
          "name": "stdout"
        }
      ]
    },
    {
      "cell_type": "markdown",
      "metadata": {
        "id": "AmLwM7hRi_DA",
        "colab_type": "text"
      },
      "source": [
        "4. Add the following member functions to your class. Make sure to appropriately test the dimensions of the matrices to make sure the operations are correct.\n",
        "    * `M.scalarmul(c)`: a matrix that is scalar product $cM$, where every element of $M$ is multiplied by $c$.\n",
        "    * `M.add(N)`: adds two matrices $M$ and $N$. Don’t forget to test that the sizes of the matrices are compatible for this and all other operations.\n",
        "    * `M.sub(N)`: subtracts two matrices $M$ and $N$.\n",
        "    * `M.mat_mult(N)`: returns a matrix that is the matrix product of two matrices $M$ and $N$.\n",
        "    * `M.element_mult(N)`: returns a matrix that is the element-wise product of two matrices $M$ and $N$.\n",
        "    * `M.equals(N)`: returns true/false if $M==N$."
      ]
    },
    {
      "cell_type": "code",
      "metadata": {
        "id": "qlmY9Xq-z8Bh",
        "colab_type": "code",
        "colab": {}
      },
      "source": [
        "#Problem\n",
        "import numpy #Advice from #stackexchange\n",
        "class matrix:\n",
        "  def __init__(self, row=None, column=None,lst=None):\n",
        "    #Takes rows and column input and creates and empty list\n",
        "    if lst == None:\n",
        "      self.row = row\n",
        "      self.column = column\n",
        "      self.data = [[0] * column for i in range(row)]\n",
        "    #Takes passed list and takes the row and length count and creates an even array filled with zeros\n",
        "    elif row == None or column == None:\n",
        "      self.lst = lst\n",
        "      self.row = lst.__len__()\n",
        "      self.column = 0\n",
        "      for i in range(self.row):\n",
        "        if self.column < self.lst[i].__len__():\n",
        "          self.column = self.lst[i].__len__()\n",
        "    self.data = [[0] * self.column for i in range(self.row)]\n",
        "    self.output = [x + y for x, y in zip(cycle(lst), self.data)]\n",
        "    for i in range(self.row):\n",
        "      self.output[i] = self.output[i][0:self.column]\n",
        "  def shape(self):\n",
        "    return (self.row,self.column)\n",
        "  def transpose(self):\n",
        "    return list(zip(*self.output)) #Stack overflow.\n",
        "  def  row_take(self,n):\n",
        "    if n > self.row:\n",
        "      print(\"Index out of range.\")\n",
        "    else:\n",
        "      return self.output[n]\n",
        "  def column_take(self,n):\n",
        "    if n > self.column:\n",
        "      print(\"Index out of range.\")\n",
        "    else:\n",
        "      __columnList = []\n",
        "      for i in range(self.row):\n",
        "        __columnList.append(self.output[i][n])\n",
        "      return __columnList\n",
        "  def block(self,n_0,n_1,m_0,m_1):\n",
        "    __out = []\n",
        "    #truncate rows\n",
        "    __shortRows = self.output[n_0:n_1]\n",
        "    for i in range(n_0,n_1):\n",
        "        __out.append(__shortRows[i][m_0,m_1])\n",
        "  \n",
        "  def scalarmu1(self, c):\n",
        "    __scaled = [[0] * self.column for i in range(self.row)]\n",
        "    for i in range(self.row):\n",
        "      for j in range(self.column):\n",
        "        __scaled[i][j] = self.output[i][j]*c\n",
        "    return __scaled\n",
        "  \n",
        "  def add(self,N):\n",
        "    __added = [[0] * self.column for i in range(self.row)]\n",
        "    if len(N) != len(self.output):\n",
        "      print(\"Lists are not of equal length.\")\n",
        "      return 0\n",
        "    else:\n",
        "      for i in range(self.row):\n",
        "        for j in range(self.column):\n",
        "          #print(str(i)+\" \"+str(j)+\" \"+ str(N[i][j]))\n",
        "          __added[i][j] = self.output[i][j] + N[i][j]\n",
        "    return __added\n",
        "  def sub(self,N):\n",
        "    __sub = [[0] * self.column for i in range(self.row)]\n",
        "    if len(N) != len(self.output):\n",
        "      print(\"Lists are not of equal length.\")\n",
        "      return 0\n",
        "    else:\n",
        "      for i in range(self.row):\n",
        "        for j in range(self.column):\n",
        "          #print(str(i)+\" \"+str(j)+\" \"+ str(N[i][j]))\n",
        "          __sub[i][j] = self.output[i][j] - N[i][j]\n",
        "    return __sub\n",
        "  def element_mult(self,N):\n",
        "    __mult = [[0] * self.column for i in range(self.row)]\n",
        "    if len(N) != len(self.output):\n",
        "      print(\"Lists are not of equal length.\")\n",
        "      return 0\n",
        "    else:\n",
        "      for i in range(self.row):\n",
        "        for j in range(self.column):\n",
        "          #print(str(i)+\" \"+str(j)+\" \"+ str(N[i][j]))\n",
        "          __mult[i][j] = self.output[i][j] * N[i][j]\n",
        "    return __mult\n",
        "  def mat_mult(self,N):\n",
        "    dotproduct = numpy.dot(self.output,N)\n",
        "    __Sum = sum(dotproduct)\n",
        "    __Sum2 = sum(__Sum)\n",
        "    return __Sum2\n",
        "  \n",
        "  def equals(self,N):\n",
        "    if self.output == N:\n",
        "      return True\n",
        "    else:\n",
        "      return False"
      ],
      "execution_count": 0,
      "outputs": []
    },
    {
      "cell_type": "code",
      "metadata": {
        "id": "28PssY6d4GVD",
        "colab_type": "code",
        "colab": {
          "base_uri": "https://localhost:8080/",
          "height": 147
        },
        "outputId": "e7340d39-4834-47b1-ce23-a9af86535c49"
      },
      "source": [
        "lst1 = [[1,1,1],[2,2,2,2,2,2],[3,3,3,3,3,3,3,3]]\n",
        "compareTest = [[1,1,1],[2,2,2,2,2,2],[3,3,3,3,3,3,3,3]]\n",
        "lst2 = [[4,4,4],[3,3,3,3,3,3],[2,2,2,2,2,2,2,2]]\n",
        "test = matrix(None,None,lst1)\n",
        "test2 = matrix(None,None,lst2)\n",
        "compareTest = matrix(None,None,compareTest)\n",
        "print(\"Here is the even list: \"+str(test.output))\n",
        "print(\"Scaled matrix: \"+str(test.scalarmu1(5)))\n",
        "print(\"Added matrices: \"+str(test.add(test2.output)))\n",
        "print(\"Subtracted Matrices: \"+str(test.sub(test2.output)))\n",
        "print(\"Multiplied Matrices: \"+str(test.element_mult(test2.output)))\n",
        "print(\"Dot product of the matrices: \"+str(test.mat_mult(test2.transpose())))\n",
        "print(\"Matrices are equal: \"+str(test.equals(compareTest.output)))"
      ],
      "execution_count": 415,
      "outputs": [
        {
          "output_type": "stream",
          "text": [
            "Here is the even list: [[1, 1, 1, 0, 0, 0, 0, 0], [2, 2, 2, 2, 2, 2, 0, 0], [3, 3, 3, 3, 3, 3, 3, 3]]\n",
            "Scaled matrix: [[5, 5, 5, 0, 0, 0, 0, 0], [10, 10, 10, 10, 10, 10, 0, 0], [15, 15, 15, 15, 15, 15, 15, 15]]\n",
            "Added matrices: [[5, 5, 5, 0, 0, 0, 0, 0], [5, 5, 5, 5, 5, 5, 0, 0], [5, 5, 5, 5, 5, 5, 5, 5]]\n",
            "Subtracted Matrices: [[-3, -3, -3, 0, 0, 0, 0, 0], [-1, -1, -1, -1, -1, -1, 0, 0], [1, 1, 1, 1, 1, 1, 1, 1]]\n",
            "Multiplied Matrices: [[4, 4, 4, 0, 0, 0, 0, 0], [6, 6, 6, 6, 6, 6, 0, 0], [6, 6, 6, 6, 6, 6, 6, 6]]\n",
            "Dot product of the matrices: 249\n",
            "Matrices are equal: True\n"
          ],
          "name": "stdout"
        }
      ]
    },
    {
      "cell_type": "markdown",
      "metadata": {
        "id": "h9W50HSki_DC",
        "colab_type": "text"
      },
      "source": [
        "5. Overload python operators to appropriately use your functions in 4 and allow expressions like:\n",
        "    * 2*M\n",
        "    * M*2\n",
        "    * M+N\n",
        "    * M-N\n",
        "    * M*N\n",
        "    * M==N\n",
        "    * M=N\n"
      ]
    },
    {
      "cell_type": "code",
      "metadata": {
        "id": "XinlOwaMdLYB",
        "colab_type": "code",
        "colab": {}
      },
      "source": [
        "#Problem\n",
        "import numpy #Advice from #stackexchange\n",
        "class matrix:\n",
        "  def __init__(self, row=None, column=None,lst=None):\n",
        "    #Takes rows and column input and creates and empty list\n",
        "    if lst == None:\n",
        "      self.row = row\n",
        "      self.column = column\n",
        "      self.data = [[0] * column for i in range(row)]\n",
        "    #Takes passed list and takes the row and length count and creates an even array filled with zeros\n",
        "    elif row == None or column == None:\n",
        "      self.lst = lst\n",
        "      self.row = lst.__len__()\n",
        "      self.column = 0\n",
        "      for i in range(self.row):\n",
        "        if self.column < self.lst[i].__len__():\n",
        "          self.column = self.lst[i].__len__()\n",
        "    self.data = [[0] * self.column for i in range(self.row)]\n",
        "    self.output = [x + y for x, y in zip(cycle(lst), self.data)]\n",
        "    for i in range(self.row):\n",
        "      self.output[i] = self.output[i][0:self.column]\n",
        "  def shape(self):\n",
        "    return (self.row,self.column)\n",
        "  def transpose(self):\n",
        "    return list(zip(*self.output)) #Stack overflow.\n",
        "  def  row_take(self,n):\n",
        "    if n > self.row:\n",
        "      print(\"Index out of range.\")\n",
        "    else:\n",
        "      return self.output[n]\n",
        "  def column_take(self,n):\n",
        "    if n > self.column:\n",
        "      print(\"Index out of range.\")\n",
        "    else:\n",
        "      __columnList = []\n",
        "      for i in range(self.row):\n",
        "        __columnList.append(self.output[i][n])\n",
        "      return __columnList\n",
        "  def block(self,n_0,n_1,m_0,m_1):\n",
        "    __out = []\n",
        "    #truncate rows\n",
        "    __shortRows = self.output[n_0:n_1]\n",
        "    for i in range(n_0,n_1):\n",
        "        __out.append(__shortRows[i][m_0,m_1])\n",
        "  \n",
        "  def scalarmu1(self, other):\n",
        "    __scaled = [[0] * self.column for i in range(self.row)]\n",
        "    for i in range(self.row):\n",
        "      for j in range(self.column):\n",
        "        __scaled[i][j] = self.output[i][j]*other.a\n",
        "    return __scaled\n",
        "  \n",
        "  def add(self,N):\n",
        "    __added = [[0] * self.column for i in range(self.row)]\n",
        "    if len(N) != len(self.output):\n",
        "      print(\"Lists are not of equal length.\")\n",
        "      return 0\n",
        "    else:\n",
        "      for i in range(self.row):\n",
        "        for j in range(self.column):\n",
        "          #print(str(i)+\" \"+str(j)+\" \"+ str(N[i][j]))\n",
        "          __added[i][j] = self.output[i][j] + N[i][j]\n",
        "    return __added\n",
        "  def sub(self,N):\n",
        "    __sub = [[0] * self.column for i in range(self.row)]\n",
        "    if len(N) != len(self.output):\n",
        "      print(\"Lists are not of equal length.\")\n",
        "      return 0\n",
        "    else:\n",
        "      for i in range(self.row):\n",
        "        for j in range(self.column):\n",
        "          #print(str(i)+\" \"+str(j)+\" \"+ str(N[i][j]))\n",
        "          __sub[i][j] = self.output[i][j] - N[i][j]\n",
        "    return __sub\n",
        "  def __mul__(self,other):\n",
        "    if isinstance(other, (int,float)):\n",
        "      __mult = [[0] * self.column for i in range(self.row)]\n",
        "      if len(N) != len(self.output):\n",
        "        print(\"Lists are not of equal length.\")\n",
        "        return 0\n",
        "      else:\n",
        "        for i in range(self.row):\n",
        "          for j in range(self.column):\n",
        "            #print(str(i)+\" \"+str(j)+\" \"+ str(N[i][j]))\n",
        "            __mult[i][j] = self.output[i][j] * N[i][j]\n",
        "      return __mult\n",
        "    else:\n",
        "      dotproduct = numpy.dot(self.output,other)\n",
        "      __Sum = sum(dotproduct)\n",
        "      __Sum2 = sum(__Sum)\n",
        "      return __Sum2\n",
        "  \n",
        "  def equals(self,N):\n",
        "    if self.output == N:\n",
        "      return True\n",
        "    else:\n",
        "      return False"
      ],
      "execution_count": 0,
      "outputs": []
    },
    {
      "cell_type": "code",
      "metadata": {
        "id": "Nqr-iX31eNAv",
        "colab_type": "code",
        "colab": {
          "base_uri": "https://localhost:8080/",
          "height": 342
        },
        "outputId": "4a41261a-4ad6-4670-9c97-0b1c1b26178a"
      },
      "source": [
        "lst1 = [[1,1,1],[2,2,2,2,2,2],[3,3,3,3,3,3,3,3]]\n",
        "compareTest = [[1,1,1],[2,2,2,2,2,2],[3,3,3,3,3,3,3,3]]\n",
        "lst2 = [[4,4,4],[3,3,3,3,3,3],[2,2,2,2,2,2,2,2]]\n",
        "test = matrix(None,None,lst1)\n",
        "test2 = matrix(None,None,lst2)\n",
        "test*2"
      ],
      "execution_count": 433,
      "outputs": [
        {
          "output_type": "error",
          "ename": "NameError",
          "evalue": "ignored",
          "traceback": [
            "\u001b[0;31m---------------------------------------------------------------------------\u001b[0m",
            "\u001b[0;31mNameError\u001b[0m                                 Traceback (most recent call last)",
            "\u001b[0;32m<ipython-input-433-80a342180964>\u001b[0m in \u001b[0;36m<module>\u001b[0;34m()\u001b[0m\n\u001b[1;32m      4\u001b[0m \u001b[0mtest\u001b[0m \u001b[0;34m=\u001b[0m \u001b[0mmatrix\u001b[0m\u001b[0;34m(\u001b[0m\u001b[0;32mNone\u001b[0m\u001b[0;34m,\u001b[0m\u001b[0;32mNone\u001b[0m\u001b[0;34m,\u001b[0m\u001b[0mlst1\u001b[0m\u001b[0;34m)\u001b[0m\u001b[0;34m\u001b[0m\u001b[0;34m\u001b[0m\u001b[0m\n\u001b[1;32m      5\u001b[0m \u001b[0mtest2\u001b[0m \u001b[0;34m=\u001b[0m \u001b[0mmatrix\u001b[0m\u001b[0;34m(\u001b[0m\u001b[0;32mNone\u001b[0m\u001b[0;34m,\u001b[0m\u001b[0;32mNone\u001b[0m\u001b[0;34m,\u001b[0m\u001b[0mlst2\u001b[0m\u001b[0;34m)\u001b[0m\u001b[0;34m\u001b[0m\u001b[0;34m\u001b[0m\u001b[0m\n\u001b[0;32m----> 6\u001b[0;31m \u001b[0mtest\u001b[0m\u001b[0;34m*\u001b[0m\u001b[0;36m2\u001b[0m\u001b[0;34m\u001b[0m\u001b[0;34m\u001b[0m\u001b[0m\n\u001b[0m",
            "\u001b[0;32m<ipython-input-431-23f092a0abb4>\u001b[0m in \u001b[0;36m__mul__\u001b[0;34m(self, other)\u001b[0m\n\u001b[1;32m     75\u001b[0m     \u001b[0;32mif\u001b[0m \u001b[0misinstance\u001b[0m\u001b[0;34m(\u001b[0m\u001b[0mother\u001b[0m\u001b[0;34m,\u001b[0m \u001b[0;34m(\u001b[0m\u001b[0mint\u001b[0m\u001b[0;34m,\u001b[0m\u001b[0mfloat\u001b[0m\u001b[0;34m)\u001b[0m\u001b[0;34m)\u001b[0m\u001b[0;34m:\u001b[0m\u001b[0;34m\u001b[0m\u001b[0;34m\u001b[0m\u001b[0m\n\u001b[1;32m     76\u001b[0m       \u001b[0m__mult\u001b[0m \u001b[0;34m=\u001b[0m \u001b[0;34m[\u001b[0m\u001b[0;34m[\u001b[0m\u001b[0;36m0\u001b[0m\u001b[0;34m]\u001b[0m \u001b[0;34m*\u001b[0m \u001b[0mself\u001b[0m\u001b[0;34m.\u001b[0m\u001b[0mcolumn\u001b[0m \u001b[0;32mfor\u001b[0m \u001b[0mi\u001b[0m \u001b[0;32min\u001b[0m \u001b[0mrange\u001b[0m\u001b[0;34m(\u001b[0m\u001b[0mself\u001b[0m\u001b[0;34m.\u001b[0m\u001b[0mrow\u001b[0m\u001b[0;34m)\u001b[0m\u001b[0;34m]\u001b[0m\u001b[0;34m\u001b[0m\u001b[0;34m\u001b[0m\u001b[0m\n\u001b[0;32m---> 77\u001b[0;31m       \u001b[0;32mif\u001b[0m \u001b[0mlen\u001b[0m\u001b[0;34m(\u001b[0m\u001b[0mN\u001b[0m\u001b[0;34m)\u001b[0m \u001b[0;34m!=\u001b[0m \u001b[0mlen\u001b[0m\u001b[0;34m(\u001b[0m\u001b[0mself\u001b[0m\u001b[0;34m.\u001b[0m\u001b[0moutput\u001b[0m\u001b[0;34m)\u001b[0m\u001b[0;34m:\u001b[0m\u001b[0;34m\u001b[0m\u001b[0;34m\u001b[0m\u001b[0m\n\u001b[0m\u001b[1;32m     78\u001b[0m         \u001b[0mprint\u001b[0m\u001b[0;34m(\u001b[0m\u001b[0;34m\"Lists are not of equal length.\"\u001b[0m\u001b[0;34m)\u001b[0m\u001b[0;34m\u001b[0m\u001b[0;34m\u001b[0m\u001b[0m\n\u001b[1;32m     79\u001b[0m         \u001b[0;32mreturn\u001b[0m \u001b[0;36m0\u001b[0m\u001b[0;34m\u001b[0m\u001b[0;34m\u001b[0m\u001b[0m\n",
            "\u001b[0;31mNameError\u001b[0m: name 'N' is not defined"
          ]
        }
      ]
    },
    {
      "cell_type": "markdown",
      "metadata": {
        "id": "xVPnb9jzi_DD",
        "colab_type": "text"
      },
      "source": [
        "6. Demonstrate the basic properties of matrices with your matrix class by creating two 2 by 2 example matrices using your Matrix class and illustrating the following:\n",
        "\n",
        "$$\n",
        "(AB)C=A(BC)\n",
        "$$\n",
        "$$\n",
        "A(B+C)=AB+AC\n",
        "$$\n",
        "$$\n",
        "AB\\neq BA\n",
        "$$\n",
        "$$\n",
        "AI=A\n",
        "$$"
      ]
    },
    {
      "cell_type": "code",
      "metadata": {
        "id": "iqpkrD9Yi_DH",
        "colab_type": "code",
        "colab": {}
      },
      "source": [
        ""
      ],
      "execution_count": 0,
      "outputs": []
    }
  ]
}